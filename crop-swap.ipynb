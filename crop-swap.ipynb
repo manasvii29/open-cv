{
 "cells": [
  {
   "cell_type": "code",
   "execution_count": 15,
   "id": "368b0d56",
   "metadata": {},
   "outputs": [],
   "source": [
    "import cv2\n",
    "import numpy"
   ]
  },
  {
   "cell_type": "code",
   "execution_count": 16,
   "id": "c8e6a777",
   "metadata": {},
   "outputs": [],
   "source": [
    "tele= cv2.imread(\"tele.jpg\")\n",
    "bhee= cv2.imread(\"bhee.jpg\")"
   ]
  },
  {
   "cell_type": "code",
   "execution_count": 17,
   "id": "5c999d07",
   "metadata": {},
   "outputs": [
    {
     "data": {
      "text/plain": [
       "(1200, 900, 3)"
      ]
     },
     "execution_count": 17,
     "metadata": {},
     "output_type": "execute_result"
    }
   ],
   "source": [
    "tele.shape"
   ]
  },
  {
   "cell_type": "code",
   "execution_count": 18,
   "id": "0c70b656",
   "metadata": {},
   "outputs": [
    {
     "data": {
      "text/plain": [
       "(900, 1200, 3)"
      ]
     },
     "execution_count": 18,
     "metadata": {},
     "output_type": "execute_result"
    }
   ],
   "source": [
    "bhee.shape"
   ]
  },
  {
   "cell_type": "code",
   "execution_count": 19,
   "id": "ab27726a",
   "metadata": {},
   "outputs": [],
   "source": [
    "cv2.imshow(\"bhee\", bhee)\n",
    "cv2.imshow(\"tele\", tele)\n",
    "cv2.waitKey()\n",
    "cv2.destroyAllWindows()"
   ]
  },
  {
   "cell_type": "code",
   "execution_count": 20,
   "id": "4dff33e5",
   "metadata": {},
   "outputs": [],
   "source": [
    "#CROP AND SWAP\n",
    "ctele = tele[70:450,250:595]\n",
    "bhee[70:450,250:595]=ctele\n",
    "cv2.imshow(\"swapping\", bhee)\n",
    "cv2.waitKey()\n",
    "cv2.destroyAllWindows()\n"
   ]
  },
  {
   "cell_type": "code",
   "execution_count": 21,
   "id": "675ce14c",
   "metadata": {},
   "outputs": [],
   "source": [
    "#CROP AND SWAP\n",
    "bhee= cv2.imread(\"bhee.jpg\")\n",
    "cbhee =bhee[70:450,250:595]\n",
    "tele[70:450,250:595]=cbhee\n",
    "cv2.imshow(\"swapping\",tele)\n",
    "\n",
    "cv2.waitKey()\n",
    "cv2.destroyAllWindows()\n",
    "\n"
   ]
  },
  {
   "cell_type": "code",
   "execution_count": null,
   "id": "e9dab38b",
   "metadata": {},
   "outputs": [],
   "source": []
  }
 ],
 "metadata": {
  "kernelspec": {
   "display_name": "Python 3",
   "language": "python",
   "name": "python3"
  },
  "language_info": {
   "codemirror_mode": {
    "name": "ipython",
    "version": 3
   },
   "file_extension": ".py",
   "mimetype": "text/x-python",
   "name": "python",
   "nbconvert_exporter": "python",
   "pygments_lexer": "ipython3",
   "version": "3.8.8"
  }
 },
 "nbformat": 4,
 "nbformat_minor": 5
}
