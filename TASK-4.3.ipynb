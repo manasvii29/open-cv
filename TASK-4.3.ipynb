{
 "cells": [
  {
   "cell_type": "code",
   "execution_count": 1,
   "id": "9f372a24",
   "metadata": {},
   "outputs": [],
   "source": [
    "import numpy\n",
    "import cv2"
   ]
  },
  {
   "cell_type": "code",
   "execution_count": 2,
   "id": "aa8c8fa4",
   "metadata": {},
   "outputs": [],
   "source": [
    "moon= cv2.imread(\"moon.png\")\n",
    "noon=cv2.imread(\"nooon.jpg\")"
   ]
  },
  {
   "cell_type": "code",
   "execution_count": 3,
   "id": "c3e6935d",
   "metadata": {},
   "outputs": [
    {
     "data": {
      "text/plain": [
       "(750, 498, 3)"
      ]
     },
     "execution_count": 3,
     "metadata": {},
     "output_type": "execute_result"
    }
   ],
   "source": [
    "moon.shape"
   ]
  },
  {
   "cell_type": "code",
   "execution_count": 4,
   "id": "8f0f664f",
   "metadata": {},
   "outputs": [
    {
     "data": {
      "text/plain": [
       "(450, 338, 3)"
      ]
     },
     "execution_count": 4,
     "metadata": {},
     "output_type": "execute_result"
    }
   ],
   "source": [
    "noon.shape"
   ]
  },
  {
   "cell_type": "code",
   "execution_count": 5,
   "id": "e7d93b94",
   "metadata": {},
   "outputs": [],
   "source": [
    "moon = moon[0:450,0:338]"
   ]
  },
  {
   "cell_type": "code",
   "execution_count": 6,
   "id": "f4b7b37a",
   "metadata": {},
   "outputs": [
    {
     "data": {
      "text/plain": [
       "(450, 338, 3)"
      ]
     },
     "execution_count": 6,
     "metadata": {},
     "output_type": "execute_result"
    }
   ],
   "source": [
    "moon.shape"
   ]
  },
  {
   "cell_type": "code",
   "execution_count": 7,
   "id": "b59f5b22",
   "metadata": {},
   "outputs": [],
   "source": [
    "moon_noon_hori= numpy.hstack((noon,moon))"
   ]
  },
  {
   "cell_type": "code",
   "execution_count": 8,
   "id": "f03160d5",
   "metadata": {},
   "outputs": [],
   "source": [
    "#horizontal collage\n",
    "cv2.imshow(\"Horizontal-collage\",moon_noon_hori)\n",
    "cv2.waitKey()\n",
    "cv2.destroyAllWindows()"
   ]
  },
  {
   "cell_type": "code",
   "execution_count": 9,
   "id": "f64b4e83",
   "metadata": {},
   "outputs": [],
   "source": [
    "moon= cv2.imread(\"moon.png\")\n",
    "noon= cv2.imread(\"nooon.jpg\")\n",
    "\n"
   ]
  },
  {
   "cell_type": "code",
   "execution_count": 10,
   "id": "36c08411",
   "metadata": {},
   "outputs": [],
   "source": [
    "moon = moon[0:500, 0:338]"
   ]
  },
  {
   "cell_type": "code",
   "execution_count": 11,
   "id": "9d1a6c00",
   "metadata": {},
   "outputs": [
    {
     "data": {
      "text/plain": [
       "(500, 338, 3)"
      ]
     },
     "execution_count": 11,
     "metadata": {},
     "output_type": "execute_result"
    }
   ],
   "source": [
    "moon.shape"
   ]
  },
  {
   "cell_type": "code",
   "execution_count": 12,
   "id": "41822199",
   "metadata": {},
   "outputs": [],
   "source": [
    "moon_noon_veri= numpy.vstack((noon,moon))"
   ]
  },
  {
   "cell_type": "code",
   "execution_count": 13,
   "id": "eb397c1e",
   "metadata": {},
   "outputs": [],
   "source": [
    "#vertical collage\n",
    "cv2.imshow(\"Vertical-collage\",moon_noon_veri)\n",
    "cv2.waitKey()\n",
    "cv2.destroyAllWindows()"
   ]
  },
  {
   "cell_type": "code",
   "execution_count": null,
   "id": "94619b89",
   "metadata": {},
   "outputs": [],
   "source": []
  }
 ],
 "metadata": {
  "kernelspec": {
   "display_name": "Python 3",
   "language": "python",
   "name": "python3"
  },
  "language_info": {
   "codemirror_mode": {
    "name": "ipython",
    "version": 3
   },
   "file_extension": ".py",
   "mimetype": "text/x-python",
   "name": "python",
   "nbconvert_exporter": "python",
   "pygments_lexer": "ipython3",
   "version": "3.8.8"
  }
 },
 "nbformat": 4,
 "nbformat_minor": 5
}
